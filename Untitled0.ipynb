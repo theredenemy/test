{
  "nbformat": 4,
  "nbformat_minor": 0,
  "metadata": {
    "colab": {
      "name": "Untitled0.ipynb",
      "provenance": [],
      "authorship_tag": "ABX9TyN0NQmSZq+L7zhg5l99c1Sn",
      "include_colab_link": true
    },
    "kernelspec": {
      "name": "python3",
      "display_name": "Python 3"
    }
  },
  "cells": [
    {
      "cell_type": "markdown",
      "metadata": {
        "id": "view-in-github",
        "colab_type": "text"
      },
      "source": [
        "<a href=\"https://colab.research.google.com/github/theredenemy/test/blob/master/Untitled0.ipynb\" target=\"_parent\"><img src=\"https://colab.research.google.com/assets/colab-badge.svg\" alt=\"Open In Colab\"/></a>"
      ]
    },
    {
      "cell_type": "code",
      "metadata": {
        "id": "pwov_7JDvmuN",
        "colab_type": "code",
        "colab": {}
      },
      "source": [
        "Test = input ('did kit break the fourth wall y/n ')\n",
        "if Test == 'y':\n",
        "    print ('your correct she did break the fourth wall')\n",
        "else:\n",
        "    print ('your wrong')"
      ],
      "execution_count": 0,
      "outputs": []
    }
  ]
}